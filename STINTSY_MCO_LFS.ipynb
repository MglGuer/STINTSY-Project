{
 "cells": [
  {
   "cell_type": "markdown",
   "metadata": {},
   "source": [
    "## Section 1. Introduction ##\n",
    "\n",
    "In this notebook, the dataset to be processed is the Labor Force Survey conducted April 2016 and retrieved through Philippine Statistics Authority database. \n",
    "\n"
   ]
  },
  {
   "cell_type": "code",
   "execution_count": null,
   "metadata": {},
   "outputs": [],
   "source": [
    "import os\n",
    "import sys\n",
    "import random\n",
    "import pickle\n",
    "import numpy as np\n",
    "import pandas as pd\n",
    "import h5py\n",
    "\n",
    "import matplotlib.pyplot as plt\n",
    "import seaborn as sns\n",
    "%matplotlib inline\n",
    "\n",
    "from sklearn.model_selection import train_test_split, cross_val_score\n",
    "from sklearn.linear_model import LogisticRegression\n",
    "from sklearn.tree import DecisionTreeClassifier, plot_tree\n",
    "from sklearn.neighbors import KNeighborsClassifier\n",
    "from sklearn.preprocessing import StandardScaler, OneHotEncoder\n",
    "from sklearn.metrics import classification_report, confusion_matrix, accuracy_score, ConfusionMatrixDisplay\n",
    "from sklearn.compose import ColumnTransformer\n",
    "from sklearn.pipeline import Pipeline\n",
    "from sklearn.impute import SimpleImputer\n",
    "\n",
    "\n",
    "import torch\n",
    "import torch.nn as nn\n",
    "import torch.optim as optim\n",
    "from torch.utils.data import Dataset, DataLoader\n",
    "from torch.optim.lr_scheduler import StepLR\n",
    "\n",
    "plt.rcParams['figure.figsize'] = (6.0, 6.0) # set default size of plots\n",
    "plt.rcParams['image.interpolation'] = 'nearest'\n",
    "plt.rcParams['image.cmap'] = 'gray'\n",
    "\n",
    "plt.style.use('ggplot')\n",
    "\n",
    "# autoreload external python modules;\n",
    "# see http://stackoverflow.com/questions/1907993/autoreload-of-modules-in-ipython\n",
    "%load_ext autoreload\n",
    "%autoreload 2"
   ]
  },
  {
   "cell_type": "markdown",
   "metadata": {},
   "source": [
    "<h1>Importing LFS PUF April 2016.CSV</h1>"
   ]
  },
  {
   "cell_type": "code",
   "execution_count": 2,
   "metadata": {},
   "outputs": [],
   "source": [
    "try:\n",
    "    lfs_data = pd.read_csv(\"src/data/LFS PUF April 2016.CSV\")\n",
    "except FileNotFoundError:\n",
    "    print(\"Error: CSV file not found. Please make sure the file exists in the correct directory or provide the correct path.\")\n",
    "    exit()"
   ]
  },
  {
   "cell_type": "markdown",
   "metadata": {},
   "source": [
    "<h1>Data Information, Pre-Processing, and Cleaning</h1>\n",
    "\n",
    "Let's get an overview of our dataset."
   ]
  },
  {
   "cell_type": "code",
   "execution_count": null,
   "metadata": {},
   "outputs": [],
   "source": [
    "lfs_data.info()"
   ]
  },
  {
   "cell_type": "markdown",
   "metadata": {},
   "source": [
    "---\n",
    "Of interest to us, there are:\n",
    "<ul><li>1 contains float values, </li>\n",
    "<li>14 contain integer values, and </li>\n",
    "<li><b>35 are object values</b>.</li></ul>\n"
   ]
  },
  {
   "cell_type": "markdown",
   "metadata": {},
   "source": [
    "---\n",
    "Let's check for duplicates:"
   ]
  },
  {
   "cell_type": "code",
   "execution_count": null,
   "metadata": {},
   "outputs": [],
   "source": [
    "lfs_data.duplicated().sum()"
   ]
  },
  {
   "cell_type": "markdown",
   "metadata": {},
   "source": [
    "No duplicates here, and therefore no cleaning need follow in this regard."
   ]
  },
  {
   "cell_type": "markdown",
   "metadata": {},
   "source": [
    "The dataset seems to contain null values in the form of whitespaces. Let's count those:"
   ]
  },
  {
   "cell_type": "code",
   "execution_count": null,
   "metadata": {},
   "outputs": [],
   "source": [
    "has_null = lfs_data.apply(lambda col: col.str.isspace().sum() if col.dtype == 'object' else 0)\n",
    "\n",
    "print(\"Number Empty Cells:\")\n",
    "print(has_null[has_null > 0])"
   ]
  },
  {
   "cell_type": "markdown",
   "metadata": {},
   "source": [
    "---\n",
    "Now, we do not want to immediately convert all null values to an arbitrary value like __NaN__ or __-1__.\n",
    "\n",
    "Instead, we want to __clean the data__ according to __how each column/variable is manipulated__. \n",
    "\n",
    "And so, as all of the columns have numerical values (__integer64__ or __float64__), we want to impute the data into numerical equivalents as well; if they even need any sort of imputation.\n",
    "\n",
    "we shall preprocess the columns that we will be using in our models that do not have any whitespace null values."
   ]
  },
  {
   "cell_type": "markdown",
   "metadata": {},
   "source": [
    "---\n",
    "### PUFC03_REL\n",
    "\n",
    "_Relationship of the person to the household head_"
   ]
  },
  {
   "cell_type": "code",
   "execution_count": null,
   "metadata": {},
   "outputs": [],
   "source": []
  },
  {
   "cell_type": "markdown",
   "metadata": {},
   "source": [
    "---\n",
    "### PUFC04_SEX\n",
    "_Sex of the person_"
   ]
  },
  {
   "cell_type": "code",
   "execution_count": null,
   "metadata": {},
   "outputs": [],
   "source": [
    "print(\"Data Type of PUFC04_SEX: \", lfs_data['PUFC04_SEX'].dtype)\n",
    "print(\"Values Used in PUFC04_SEX: \", np.sort(lfs_data['PUFC04_SEX'].unique().tolist()))"
   ]
  },
  {
   "cell_type": "markdown",
   "metadata": {},
   "source": [
    "Because the column contains numeric int64 values but only uses either 1 or 2, we want to convert the column data type to boolean to save space and memory. \n",
    "\n",
    "___True___ will then correspond to Male, and ___False___ to Female"
   ]
  },
  {
   "cell_type": "code",
   "execution_count": null,
   "metadata": {},
   "outputs": [],
   "source": [
    "lfs_data['PUFC04_SEX'] = lfs_data['PUFC04_SEX'].map({1: True, 2: False})        # ONLY RUN THESE 2 LINES OF CODE ONCE\n",
    "lfs_data['PUFC04_SEX'] = lfs_data['PUFC04_SEX'].astype('bool')                  # IT MESSES UP THE BOOLEAN VALUES because of the mapping of 1 to TRUE\n",
    "                                                                                # it turns all values to true, and all false values are lost"
   ]
  },
  {
   "cell_type": "markdown",
   "metadata": {},
   "source": [
    "Let us now check the data type and possible values used in the column again."
   ]
  },
  {
   "cell_type": "code",
   "execution_count": null,
   "metadata": {},
   "outputs": [],
   "source": [
    "print(\"Data Type of PUFC04_SEX: \", lfs_data['PUFC04_SEX'].dtype)\n",
    "print(\"Values Used in PUFC04_SEX: \", np.sort(lfs_data['PUFC04_SEX'].unique().tolist()))"
   ]
  },
  {
   "cell_type": "markdown",
   "metadata": {},
   "source": [
    "---\n",
    "### PUFC06_MSTAT\n",
    "_Marital status of the person since last birthday_"
   ]
  },
  {
   "cell_type": "code",
   "execution_count": null,
   "metadata": {},
   "outputs": [],
   "source": [
    "print(\"Data Type of PUFC06_MSTAT: \", lfs_data['PUFC06_MSTAT'].dtype)\n",
    "print(\"Values Used in PUFC06_MSTAT: \", sorted(lfs_data['PUFC06_MSTAT'].unique()))"
   ]
  },
  {
   "cell_type": "markdown",
   "metadata": {},
   "source": [
    "We can see that the column PUFC06_MSTAT is of data type ___Object___, even if it supposedly contains numeric int64 numbers. \n",
    "\n",
    "We can also observe that this is the first column that contains empty/null/whitespace values in its entries.\n",
    "\n",
    "Because of this, we first have to preprocess its contents to become purely integers before we can use them in our modelling.\n",
    "\n",
    "\n",
    "First and foremost, we handle the whitespace and turn all instances to __-1__.\n",
    "\n",
    "Then, we convert all strings of these numbers to their __equivalent int64__ values.\n",
    "\n",
    "We will also make sure that all entries within the columns are of data type ___int64___."
   ]
  },
  {
   "cell_type": "code",
   "execution_count": 7,
   "metadata": {},
   "outputs": [],
   "source": [
    "lfs_data.loc[lfs_data['PUFC06_MSTAT'] == \" \", 'PUFC06_MSTAT'] = -1\n",
    "# lfs_data.loc[lfs_data['PUFC06_MSTAT'] == \"1\", 'PUFC06_MSTAT'] = 1\n",
    "# lfs_data.loc[lfs_data['PUFC06_MSTAT'] == \"2\", 'PUFC06_MSTAT'] = 2\n",
    "# lfs_data.loc[lfs_data['PUFC06_MSTAT'] == \"3\", 'PUFC06_MSTAT'] = 3\n",
    "# lfs_data.loc[lfs_data['PUFC06_MSTAT'] == \"4\", 'PUFC06_MSTAT'] = 4\n",
    "# lfs_data.loc[lfs_data['PUFC06_MSTAT'] == \"5\", 'PUFC06_MSTAT'] = 5\n",
    "# lfs_data.loc[lfs_data['PUFC06_MSTAT'] == \"6\", 'PUFC06_MSTAT'] = 6\n",
    "lfs_data['PUFC06_MSTAT'] = lfs_data['PUFC06_MSTAT'].astype('int64')"
   ]
  },
  {
   "cell_type": "markdown",
   "metadata": {},
   "source": [
    "Upon further analysis of the column and its equivalent question, we can figure out that we can actually allocate the null/whitespace/-1 values to the integer __6__ because this is the category for unknown marital status."
   ]
  },
  {
   "cell_type": "code",
   "execution_count": 8,
   "metadata": {},
   "outputs": [],
   "source": [
    "lfs_data.loc[lfs_data['PUFC06_MSTAT'] == -1, 'PUFC06_MSTAT'] = 6"
   ]
  },
  {
   "cell_type": "markdown",
   "metadata": {},
   "source": [
    "Let us double check our progress."
   ]
  },
  {
   "cell_type": "code",
   "execution_count": null,
   "metadata": {},
   "outputs": [],
   "source": [
    "print(\"Data Type of PUFC06_MSTAT: \", lfs_data['PUFC06_MSTAT'].dtype)\n",
    "print(\"Values Used in PUFC06_MSTAT: \", np.sort(lfs_data['PUFC06_MSTAT'].unique().tolist()))"
   ]
  },
  {
   "cell_type": "markdown",
   "metadata": {},
   "source": [
    "---\n",
    "### PUFC07_GRADE\n",
    "\n",
    "_Highest grade completed of the person_"
   ]
  },
  {
   "cell_type": "code",
   "execution_count": null,
   "metadata": {},
   "outputs": [],
   "source": [
    "print(\"Data Type of PUFC07_GRADE: \", lfs_data['PUFC07_GRADE'].dtype)\n",
    "print(\"Values Used in PUFC07_GRADE: \\n\", np.sort(lfs_data['PUFC07_GRADE'].unique().tolist()))"
   ]
  },
  {
   "cell_type": "markdown",
   "metadata": {},
   "source": [
    "Upon observation, we can see that there is a whitespace value. We shall convert that to -1 for the sake of preserving a homogenous data type. \n",
    "\n",
    "Seeing also how the values of this column are numeric integers but in String form, we can call the function .astype() and convert them accordingly."
   ]
  },
  {
   "cell_type": "code",
   "execution_count": 15,
   "metadata": {},
   "outputs": [],
   "source": [
    "lfs_data.loc[lfs_data['PUFC07_GRADE'] == \"   \", 'PUFC07_GRADE'] = -1\n",
    "lfs_data['PUFC07_GRADE'] = lfs_data['PUFC07_GRADE'].astype('int64')"
   ]
  },
  {
   "cell_type": "markdown",
   "metadata": {},
   "source": [
    "We cannot impute this __-1__ value any further and can only interpret such as having no grade completed."
   ]
  },
  {
   "cell_type": "code",
   "execution_count": null,
   "metadata": {},
   "outputs": [],
   "source": [
    "print(\"Data Type of PUFC07_GRADE: \", lfs_data['PUFC07_GRADE'].dtype)\n",
    "print(\"Values Used in PUFC07_GRADE: \\n\", np.sort(lfs_data['PUFC07_GRADE'].unique().tolist()))"
   ]
  },
  {
   "cell_type": "markdown",
   "metadata": {},
   "source": [
    "As we now have a homogenous int64 column, we can analyze the values on a deeper level.\n",
    "\n",
    "Upon inspection of the actual Labor Force Survey _Questionnaire_, we can see that some codes that are present in the displayed values were not explicitly declared in the manual."
   ]
  },
  {
   "cell_type": "code",
   "execution_count": null,
   "metadata": {},
   "outputs": [],
   "source": [
    "valid_codes = [ # These are the codes that were explicitly defined in the manual\n",
    "    0,                                                  # No Grade\n",
    "    10,                                                 # Preschool\n",
    "    210, 220, 230, 240, 250, 260, 280,                  # Elementary (Grade 1 to Elementary Graduate)\n",
    "    310, 320, 330, 340, 350,                            # High School (First Year to High School Graduate)\n",
    "    410, 420,                                           # Post Secondary; If Graduate Specify\n",
    "    810, 820, 830, 840,                                 # College; If Graduate Specify\n",
    "    900                                                 # Post Baccalaureate\n",
    "    # \"   \"                                             # White Space Empty/Missing Values\n",
    "]"
   ]
  },
  {
   "cell_type": "markdown",
   "metadata": {},
   "source": [
    "We have decided to label all explicitly defined codes as __valid codes__."
   ]
  },
  {
   "cell_type": "markdown",
   "metadata": {},
   "source": [
    "This entails that the PSA must have assigned certain numbers in order to represent the Post Secondary and College courses of those who have graduated. This range is between 421 to 809.\n",
    "\n",
    "When compared to the actual values within the dataset, we can now infer that there exists unspecified codes that exist in the dataset.\n",
    "\n",
    "We decided to call these __invalid codes__."
   ]
  },
  {
   "cell_type": "code",
   "execution_count": 21,
   "metadata": {},
   "outputs": [],
   "source": [
    "invalid_values = np.sort(lfs_data[~(lfs_data['PUFC07_GRADE'].isin(valid_codes))]['PUFC07_GRADE'].unique())"
   ]
  },
  {
   "cell_type": "markdown",
   "metadata": {},
   "source": [
    "These invalid codes include __-1__ (the arbitrary code for __Missing Values__) and all other undefined non-explicit codes that we hypothesize to represent __Post Secondary__ and __College__ courses."
   ]
  },
  {
   "cell_type": "code",
   "execution_count": 22,
   "metadata": {},
   "outputs": [],
   "source": [
    "missing_values = [-1]\n",
    "\n",
    "graduate_specified_courses = [int(x) for x in [value for value in invalid_values if value not in missing_values]]"
   ]
  },
  {
   "cell_type": "markdown",
   "metadata": {},
   "source": [
    "For simplicity's sake, we allocated a new arbitrary code, __code 700__, to contain all graduate specified courses."
   ]
  },
  {
   "cell_type": "code",
   "execution_count": 23,
   "metadata": {},
   "outputs": [],
   "source": [
    "lfs_data[\"PUFC07_GRADE\"] = lfs_data[\"PUFC07_GRADE\"].apply(lambda x: 700 if x in graduate_specified_courses else x)"
   ]
  },
  {
   "cell_type": "markdown",
   "metadata": {},
   "source": [
    "For a quick summary of the Data Preprocessing above:"
   ]
  },
  {
   "cell_type": "code",
   "execution_count": null,
   "metadata": {},
   "outputs": [],
   "source": [
    "print(\"\\nPUFC07_GRADE Data Type: \", lfs_data['PUFC07_GRADE'].dtype)\n",
    "print(\"\\nUnique Codes in Column: \", np.sort(lfs_data['PUFC07_GRADE'].unique().tolist()))\n",
    "print(\"\\nValid Codes: \", valid_codes)\n",
    "print(\"\\nInvalid Codes: \", invalid_values)\n",
    "print(\"\\nAssigned Missing Code: \", missing_values)\n",
    "print(\"\\nCodes for Hypothesized Graduate Specified Courses: \", graduate_specified_courses)\n",
    "print(\"\\nArbitrary Code for Graduate Specified Courses: \", 700)"
   ]
  },
  {
   "cell_type": "markdown",
   "metadata": {},
   "source": [
    "For further clarification, the range of allowed values for this column is -1 to 900.\n",
    "\n",
    "* -1 is allocated as the unknown highest accomplished grade level\n",
    "\n",
    "* 700 is allocated for the specified courses (hypothesized inference according to manual)\n",
    "\n",
    "* and the rest are left as is"
   ]
  },
  {
   "cell_type": "markdown",
   "metadata": {},
   "source": [
    "### PUFC08_CURSCH\n",
    "_Is the person currently attending school?_"
   ]
  },
  {
   "cell_type": "markdown",
   "metadata": {},
   "source": [
    "Similar to PUFC04_SEX, we want to convert the column's data type from Object --> to Int64 --> to Bool, in order to properly represent the status of the entire population."
   ]
  },
  {
   "cell_type": "code",
   "execution_count": 31,
   "metadata": {},
   "outputs": [
    {
     "name": "stdout",
     "output_type": "stream",
     "text": [
      "Data Type of PUFC08_CURSCH:  object\n",
      "Values Used in PUFC08_CURSCH:  [' ', '1', '2']\n"
     ]
    }
   ],
   "source": [
    "print(\"Data Type of PUFC08_CURSCH: \", lfs_data['PUFC08_CURSCH'].dtype)\n",
    "print(\"Values Used in PUFC08_CURSCH: \", sorted(lfs_data['PUFC08_CURSCH'].unique()))"
   ]
  },
  {
   "cell_type": "markdown",
   "metadata": {},
   "source": [
    "The column also contains much whitespace/null values, hence it is necessary for us to understand why.\n",
    "\n",
    "Upon further inspection, we can see that the column only requires those between ages 5 to 24 to answer whether or not they are still studying at an academic institution. \n",
    "\n",
    "From this, we can infer that the reason there is around a 60% amount of whitespace in this column is because the remaining 40% are ages beyond this range. \n",
    "\n",
    "Furthermore, because the survey itself does not measure the status of those __beyond__ that __5 to 24 range__, we can assume their answer to be: __No, they are NOT currently attending school.__"
   ]
  },
  {
   "cell_type": "code",
   "execution_count": 32,
   "metadata": {},
   "outputs": [],
   "source": [
    "lfs_data.loc[lfs_data['PUFC08_CURSCH'] == \" \", 'PUFC08_CURSCH'] = 2\n",
    "lfs_data['PUFC08_CURSCH'] = lfs_data['PUFC08_CURSCH'].map({1: True, 2: False})        # ONLY RUN THESE 2 LINES OF CODE ONCE\n",
    "lfs_data['PUFC08_CURSCH'] = lfs_data['PUFC08_CURSCH'].astype('bool')                  # IT MESSES UP THE BOOLEAN VALUES because of the mapping of 1 to TRUE\n",
    "                                                                                        # it turns all values to true, and all false values are lost"
   ]
  },
  {
   "cell_type": "markdown",
   "metadata": {},
   "source": [
    "Let us check our conversion:"
   ]
  },
  {
   "cell_type": "code",
   "execution_count": null,
   "metadata": {},
   "outputs": [],
   "source": [
    "print(\"Data Type of PUFC08_CURSCH: \", lfs_data['PUFC08_CURSCH'].dtype)\n",
    "print(\"Values Used in PUFC08_CURSCH: \\n\", np.sort(lfs_data['PUFC08_CURSCH'].unique().tolist()))"
   ]
  },
  {
   "cell_type": "markdown",
   "metadata": {},
   "source": [
    "### PUFC11_WORK\n",
    "\n",
    "_Did the person do any work for at least one house during the past week?_"
   ]
  },
  {
   "cell_type": "code",
   "execution_count": null,
   "metadata": {},
   "outputs": [],
   "source": [
    "lfs_data.loc[lfs_data['PUFC11_WORK'] == \" \", 'PUFC11_WORK'] = 2\n",
    "lfs_data.loc[lfs_data['PUFC11_WORK'] == \"1\", 'PUFC11_WORK'] = 1\n",
    "lfs_data.loc[lfs_data['PUFC11_WORK'] == \"2\", 'PUFC11_WORK'] = 2\n",
    "lfs_data['PUFC11_WORK'] = lfs_data['PUFC11_WORK'].astype('int64')\n",
    "lfs_data['PUFC11_WORK'] = lfs_data['PUFC11_WORK'].map({1: True, 2: False})        # ONLY RUN THESE 2 LINES OF CODE ONCE\n",
    "lfs_data['PUFC11_WORK'] = lfs_data['PUFC11_WORK'].astype('bool')                  # IT MESSES UP THE BOOLEAN VALUES because of the mapping of 1 to TRUE\n",
    "                                                                                        # it turns all values to true, and all false values are lost"
   ]
  },
  {
   "cell_type": "markdown",
   "metadata": {},
   "source": [
    "### PUFC30_LOOKW\n",
    "\n",
    "_Did the person look for work or try to establish a business in the past week?_"
   ]
  },
  {
   "cell_type": "markdown",
   "metadata": {},
   "source": [
    "question 28 seeks to identify people who overwork themselves\n",
    "if num28 == <= 48, skip 30\n",
    "if the person works more than 10 hours per day 5 days a week, answer 30\n",
    "else keep answering\n",
    "\n",
    "this entails that answering question 30 will figure out why people overwork themselves and still find more work\n",
    "this means, if num30 is skipped, then whitespaced\n",
    "if whitespaced, num28 answer is <=48\n",
    "worker worked 48 hours or less \n",
    "\n",
    "the data used in PUFC30_LOOKW are from people who have working hours greater than 48 hours this week\n",
    "\n",
    "PUFC11_WORK Did the person do any work for at least one hour during the past week?\n",
    "1 Yes (if yes, leave PUFC12_JOB blank)\n",
    "2 No\n",
    "\n",
    "PUFC30_LOOKW Did the person look for work or try to establish a business in the past week?\n",
    "1 Yes\n",
    "2 No (Skip to 34)\n",
    "\n",
    "The statistic we want to show for comparing PUFC11_WORK and PUFC30_LOOKW are the number of people who are overworked and STILL looking for more work (or not).\n",
    "find stats/relationship on wage and overwork\n",
    "\n",
    "\n",
    "PUFC30_LOOKW if whitespace/skipped, then that means the person has working hours <=48, WHICH MEANS that they DO have work"
   ]
  },
  {
   "cell_type": "code",
   "execution_count": null,
   "metadata": {},
   "outputs": [],
   "source": [
    "# 1 Convert whitespace to -1, string 1 to int64 1, string 2 to int64 2\n",
    "lfs_data.loc[lfs_data['PUFC30_LOOKW'] == \" \", 'PUFC30_LOOKW'] = -1\n",
    "lfs_data.loc[lfs_data['PUFC30_LOOKW'] == \"1\", 'PUFC30_LOOKW'] = 1\n",
    "lfs_data.loc[lfs_data['PUFC30_LOOKW'] == \"2\", 'PUFC30_LOOKW'] = 2\n",
    "lfs_data['PUFC30_LOOKW'] = lfs_data['PUFC30_LOOKW'].astype('int64')\n",
    "\n",
    "# 2 Copy the PUFC30_LOOKW column to a new column\n",
    "lfs_data['PUFC30_LOOKW_version2'] = lfs_data['PUFC30_LOOKW'].copy()\n",
    "lfs_data.loc[lfs_data['PUFC30_LOOKW_version2'] == -1, 'PUFC30_LOOKW_version2'] = 2\n",
    "\n",
    "# 2.1 Convert int64 1 to True, int64 2 to False\n",
    "lfs_data.loc[lfs_data['PUFC30_LOOKW_version2'] == 1, 'PUFC30_LOOKW_version2'] = True\n",
    "lfs_data.loc[lfs_data['PUFC30_LOOKW_version2'] == 2, 'PUFC30_LOOKW_version2'] = False\n",
    "lfs_data['PUFC30_LOOKW_version2'] = lfs_data['PUFC30_LOOKW_version2'].astype('bool')"
   ]
  },
  {
   "cell_type": "code",
   "execution_count": null,
   "metadata": {},
   "outputs": [],
   "source": [
    "overworked_people = (lfs_data['PUFC30_LOOKW'] == -1).sum()\n",
    "not_overworked_people = (lfs_data['PUFC30_LOOKW'] == 1).sum() + (lfs_data['PUFC30_LOOKW'] == 2).sum()\n",
    "total_population = overworked_people + not_overworked_people\n",
    "\n",
    "print(f\"People who are NOT overworked: \", overworked_people)\n",
    "print(f\"Percentage: \", 100 * overworked_people / total_population, \"%\")\n",
    "print(f\"\\nPeople who ARE overworked: \", not_overworked_people)\n",
    "print(f\"Percentage: \", 100 * not_overworked_people / total_population, \"%\")"
   ]
  },
  {
   "cell_type": "markdown",
   "metadata": {},
   "source": [
    "### PUFC31_FLWRK\n",
    "\n",
    "_Was it the person's first time looking for work or trying to establish a business?_"
   ]
  },
  {
   "cell_type": "code",
   "execution_count": null,
   "metadata": {},
   "outputs": [],
   "source": [
    "\n",
    "# PUFC31_FLWRK\n",
    "# 1 Convert whitespace to -1, string 1 to int64 1, string 2 to int64 2\n",
    "lfs_data.loc[lfs_data['PUFC31_FLWRK'] == \" \", 'PUFC31_FLWRK'] = -1\n",
    "lfs_data.loc[lfs_data['PUFC31_FLWRK'] == \"1\", 'PUFC31_FLWRK'] = 1\n",
    "lfs_data.loc[lfs_data['PUFC31_FLWRK'] == \"2\", 'PUFC31_FLWRK'] = 2\n",
    "lfs_data['PUFC31_FLWRK'] = lfs_data['PUFC31_FLWRK'].astype('int64')\n",
    "\n",
    "# 2 Copy the PUFC30_LOOKW column to a new column\n",
    "lfs_data['PUFC31_FLWRK_version2'] = lfs_data['PUFC31_FLWRK'].copy()\n",
    "lfs_data.loc[lfs_data['PUFC31_FLWRK_version2'] == -1, 'PUFC31_FLWRK_version2'] = 2\n",
    "\n",
    "# 2.1 Convert int64 1 to True, int64 2 to False\n",
    "lfs_data.loc[lfs_data['PUFC31_FLWRK_version2'] == 1, 'PUFC31_FLWRK_version2'] = True\n",
    "lfs_data.loc[lfs_data['PUFC31_FLWRK_version2'] == 2, 'PUFC31_FLWRK_version2'] = False\n",
    "lfs_data['PUFC31_FLWRK_version2'] = lfs_data['PUFC31_FLWRK_version2'].astype('bool')\n",
    "\n",
    "# 2.2 Check if column is bool datatype\n",
    "print(lfs_data['PUFC31_FLWRK_version2'].dtype)\n",
    "print(lfs_data['PUFC31_FLWRK_version2'].unique())\n"
   ]
  },
  {
   "cell_type": "markdown",
   "metadata": {},
   "source": [
    "### PUFC34_WYNOT\n",
    "\n",
    "_Reason for not looking for work Why did the person not look for work?_"
   ]
  },
  {
   "cell_type": "code",
   "execution_count": 49,
   "metadata": {},
   "outputs": [],
   "source": [
    "# # PUFC34_WYNOT\n",
    "# 1 Convert whitespace to -1, string 1 to int64 1, string 2 to int64 2\n",
    "lfs_data.loc[lfs_data['PUFC34_WYNOT'] == \" \", 'PUFC34_WYNOT'] = -1\n",
    "lfs_data.loc[lfs_data['PUFC34_WYNOT'] == \"1\", 'PUFC34_WYNOT'] = 1\n",
    "lfs_data.loc[lfs_data['PUFC34_WYNOT'] == \"2\", 'PUFC34_WYNOT'] = 2\n",
    "lfs_data.loc[lfs_data['PUFC34_WYNOT'] == \"3\", 'PUFC34_WYNOT'] = 3\n",
    "lfs_data.loc[lfs_data['PUFC34_WYNOT'] == \"4\", 'PUFC34_WYNOT'] = 4\n",
    "lfs_data.loc[lfs_data['PUFC34_WYNOT'] == \"5\", 'PUFC34_WYNOT'] = 5\n",
    "lfs_data.loc[lfs_data['PUFC34_WYNOT'] == \"6\", 'PUFC34_WYNOT'] = 6\n",
    "lfs_data.loc[lfs_data['PUFC34_WYNOT'] == \"7\", 'PUFC34_WYNOT'] = 7\n",
    "lfs_data.loc[lfs_data['PUFC34_WYNOT'] == \"8\", 'PUFC34_WYNOT'] = 8\n",
    "lfs_data.loc[lfs_data['PUFC34_WYNOT'] == \"9\", 'PUFC34_WYNOT'] = 9\n",
    "lfs_data['PUFC34_WYNOT'] = lfs_data['PUFC34_WYNOT'].astype('int64')\n",
    "\n",
    "# 2 Copy the PUFC34_WYNOT column to two new columns\n",
    "# lfs_data['PUFC34_WYNOT_version2'] = lfs_data['PUFC34_WYNOT'].copy()\n",
    "# lfs_data['PUFC34_WYNOT_version2'] = lfs_data['PUFC34_WYNOT_version2']\n",
    "\n",
    "lfs_data['PUFC34_WYNOT_version3'] = lfs_data['PUFC34_WYNOT'].copy()\n",
    "lfs_data.loc[lfs_data['PUFC34_WYNOT_version3'] == -1, 'PUFC34_WYNOT_version3'] = 9"
   ]
  },
  {
   "cell_type": "markdown",
   "metadata": {},
   "source": [
    "### PUFC38_PREVJOB\n",
    "\n",
    "_Has the person worked at any time before?_"
   ]
  },
  {
   "cell_type": "code",
   "execution_count": null,
   "metadata": {},
   "outputs": [],
   "source": [
    "# PUFC38_PREVJOB\n",
    "# 1 Convert whitespace to -1, string 1 to int64 1, string 2 to int64 2\n",
    "lfs_data.loc[lfs_data['PUFC38_PREVJOB'] == \" \", 'PUFC38_PREVJOB'] = -1\n",
    "lfs_data.loc[lfs_data['PUFC38_PREVJOB'] == \"1\", 'PUFC38_PREVJOB'] = 1\n",
    "lfs_data.loc[lfs_data['PUFC38_PREVJOB'] == \"2\", 'PUFC38_PREVJOB'] = 2\n",
    "lfs_data['PUFC38_PREVJOB'] = lfs_data['PUFC38_PREVJOB'].astype('int64')\n",
    "\n",
    "# 2 Copy the PUFC30_LOOKW column to a new column\n",
    "lfs_data['PUFC38_PREVJOB_version2'] = lfs_data['PUFC38_PREVJOB'].copy()\n",
    "lfs_data.loc[lfs_data['PUFC38_PREVJOB_version2'] == -1, 'PUFC38_PREVJOB_version2'] = 2\n",
    "\n",
    "# 2.1 Convert int64 1 to True, int64 2 to False\n",
    "lfs_data.loc[lfs_data['PUFC38_PREVJOB_version2'] == 1, 'PUFC38_PREVJOB_version2'] = True\n",
    "lfs_data.loc[lfs_data['PUFC38_PREVJOB_version2'] == 2, 'PUFC38_PREVJOB_version2'] = False\n",
    "lfs_data['PUFC38_PREVJOB_version2'] = lfs_data['PUFC38_PREVJOB_version2'].astype('bool')\n",
    "\n",
    "# 2.2 Check if column is bool datatype\n",
    "print(lfs_data['PUFC38_PREVJOB_version2'].dtype)\n",
    "print(lfs_data['PUFC38_PREVJOB_version2'].unique())"
   ]
  },
  {
   "cell_type": "markdown",
   "metadata": {},
   "source": [
    "Now that these are -1, let's return to the data types, and find if our object columns from earlier are convertible to integers (or float):"
   ]
  },
  {
   "cell_type": "code",
   "execution_count": null,
   "metadata": {},
   "outputs": [],
   "source": [
    "int_convertible_columns = []\n",
    "\n",
    "for col in lfs_data.columns:\n",
    "    if lfs_data[col].dtypes == 'object':  \n",
    "        try:\n",
    "            float_vals = lfs_data[col].dropna().astype(float)\n",
    "            if (float_vals % 1 == 0).all():\n",
    "                int_convertible_columns.append(col)\n",
    "        except ValueError:\n",
    "            pass \n",
    "\n",
    "print(\"Safely convertable to int:\")\n",
    "print(int_convertible_columns)"
   ]
  },
  {
   "cell_type": "markdown",
   "metadata": {},
   "source": [
    "---\n",
    "And convert to int"
   ]
  },
  {
   "cell_type": "code",
   "execution_count": 8,
   "metadata": {},
   "outputs": [],
   "source": [
    "columns_to_convert = [\n",
    "    'PUFC06_MSTAT', 'PUFC08_CURSCH', 'PUFC09_GRADTECH', 'PUFC10_CONWR', 'PUFC11_WORK', \n",
    "    'PUFC12_JOB', 'PUFC14_PROCC', 'PUFC16_PKB', 'PUFC17_NATEM', 'PUFC18_PNWHRS', \n",
    "    'PUFC19_PHOURS', 'PUFC20_PWMORE', 'PUFC21_PLADDW', 'PUFC22_PFWRK', 'PUFC23_PCLASS', \n",
    "    'PUFC24_PBASIS', 'PUFC25_PBASIC', 'PUFC26_OJOB', 'PUFC27_NJOBS', 'PUFC28_THOURS', \n",
    "    'PUFC29_WWM48H', 'PUFC30_LOOKW', 'PUFC31_FLWRK', 'PUFC32_JOBSM', 'PUFC33_WEEKS', \n",
    "    'PUFC34_WYNOT', 'PUFC35_LTLOOKW', 'PUFC36_AVAIL', 'PUFC37_WILLING', 'PUFC38_PREVJOB', \n",
    "    'PUFC40_POCC', 'PUFC41_WQTR', 'PUFC43_QKB', 'PUFNEWEMPSTAT'\n",
    "]\n",
    "\n",
    "for col in columns_to_convert:\n",
    "    lfs_data[col] = lfs_data[col].astype(int) "
   ]
  },
  {
   "cell_type": "markdown",
   "metadata": {},
   "source": [
    "---\n",
    "Let's also apply the unique() function to our dataset."
   ]
  },
  {
   "cell_type": "code",
   "execution_count": null,
   "metadata": {},
   "outputs": [],
   "source": [
    "lfs_data.apply(lambda x: x.nunique())"
   ]
  },
  {
   "cell_type": "markdown",
   "metadata": {},
   "source": [
    "---\n",
    "Considering our dataset has 18,000 entries, features with particularly low numbers stand out as questions that have clear, defined choices. Reviewing the [questionnaire](https://psada.psa.gov.ph/catalog/67/download/537), we find that certain questions ask the participant to specify beyond prespecified choices.\n",
    "\n",
    "This column possibly contains \"010,\" which is obviously not an integer. We ensure this column is a string, and check for values not specified in the questionnaire."
   ]
  },
  {
   "cell_type": "code",
   "execution_count": null,
   "metadata": {},
   "outputs": [],
   "source": [
    "lfs_data['PUFC07_GRADE'] = lfs_data['PUFC07_GRADE']\n",
    "valid_codes = [\n",
    "    0, 10,  # No Grade, Preschool\n",
    "    210, 220, 230, 240, 250, 260, 280,  # Elementary\n",
    "    310, 320, 330, 340, 350,  # High School\n",
    "    410, 420,  # Post Secondary; If Graduate Specify\n",
    "    810, 820, 830, 840,  # College; If Graduate Specify\n",
    "    900,  # Post Baccalaureate\n",
    "    np.nan\n",
    "]\n",
    "invalid_rows = lfs_data[~(lfs_data['PUFC07_GRADE'].isin(valid_codes))]\n",
    "\n",
    "unique_invalid_values = invalid_rows['PUFC07_GRADE'].unique()\n",
    "print(unique_invalid_values)"
   ]
  },
  {
   "cell_type": "markdown",
   "metadata": {},
   "source": [
    "Values 5XX 6XX are not detailed in the questionnaire. As it instructs the participant to specify whether they graduated from post secondary or college, we'll create a new data point to encapsulate these."
   ]
  },
  {
   "cell_type": "code",
   "execution_count": null,
   "metadata": {},
   "outputs": [],
   "source": [
    "lfs_data.loc[~lfs_data['PUFC07_GRADE'].isin(valid_codes), 'PUFC07_GRADE'] = 700\n",
    "print(lfs_data['PUFC07_GRADE'].unique())"
   ]
  },
  {
   "cell_type": "markdown",
   "metadata": {},
   "source": [
    "## EDA"
   ]
  },
  {
   "cell_type": "markdown",
   "metadata": {},
   "source": [
    "Correlations"
   ]
  },
  {
   "cell_type": "code",
   "execution_count": null,
   "metadata": {},
   "outputs": [],
   "source": [
    "lfs_data_with_nan = lfs_data.copy()\n",
    "lfs_data_with_nan.replace(-1, np.nan, inplace=True)\n",
    "corr_matrix = lfs_data_with_nan.corr()\n",
    "\n",
    "strong_correlations = []\n",
    "for i in range(len(corr_matrix.columns)):\n",
    "    for j in range(i + 1, len(corr_matrix.columns)): \n",
    "        corr_value = corr_matrix.iloc[i, j]\n",
    "        if (0.5 < corr_value < 1) or (-1 < corr_value < -0.5):\n",
    "            strong_correlations.append((\n",
    "                corr_matrix.index[i], \n",
    "                corr_matrix.columns[j], \n",
    "                corr_value\n",
    "            ))\n",
    "\n",
    "strong_correlations.sort(key=lambda x: abs(x[2]), reverse=True)\n",
    "\n",
    "print(\"Strong correlations (|corr| > 0.5 and |corr| < 1):\")\n",
    "for var1, var2, corr in strong_correlations:\n",
    "    print(f\"{var1} — {var2}: {corr:.3f}\")\n"
   ]
  },
  {
   "cell_type": "code",
   "execution_count": null,
   "metadata": {},
   "outputs": [],
   "source": [
    "occupation_sex = lfs_data.groupby(['PUFC04_SEX', 'PUFC14_PROCC']).size().unstack(fill_value=0)\n",
    "occupation_sex.plot(kind='bar', stacked=True, figsize=(12, 6))\n",
    "plt.title('Occupation Distribution by Sex')\n",
    "plt.xlabel('Sex')\n",
    "plt.ylabel('Count')\n",
    "plt.xticks([True, False], ['Male', 'Female'], rotation=0)\n",
    "plt.legend(title='Occupation', bbox_to_anchor=(1.05, 1), loc='upper left')\n",
    "plt.show()"
   ]
  },
  {
   "cell_type": "code",
   "execution_count": null,
   "metadata": {},
   "outputs": [],
   "source": [
    "occupation_marriageStatus = lfs_data.groupby(['PUFC06_MSTAT', 'PUFC14_PROCC']).size().unstack(fill_value=0)\n",
    "plt.figure(figsize=(20, 10))\n",
    "occupation_marriageStatus.plot(kind='bar', stacked=True, figsize=(20, 10))\n",
    "plt.title('Occupation Distribution by Marriage Status')\n",
    "plt.xlabel('Marriage Status')\n",
    "plt.ylabel('Count')\n",
    "plt.legend(title='Occupation', bbox_to_anchor=(1.05, 1), loc='upper left')\n",
    "plt.show()"
   ]
  },
  {
   "cell_type": "code",
   "execution_count": null,
   "metadata": {},
   "outputs": [],
   "source": [
    "occupation_highestGrade = lfs_data.groupby(['PUFC07_GRADE', 'PUFC14_PROCC']).size().unstack(fill_value=0)\n",
    "plt.figure(figsize=(20, 10))\n",
    "occupation_highestGrade.plot(kind='bar', stacked=True, figsize=(20, 10))\n",
    "plt.title('Occupation Distribution by Highest Grade Accomplished')\n",
    "plt.xlabel('Marriage Status')\n",
    "plt.ylabel('Count')\n",
    "plt.legend(title='Occupation', bbox_to_anchor=(1.05, 1), loc='upper left')\n",
    "plt.show()"
   ]
  },
  {
   "cell_type": "code",
   "execution_count": null,
   "metadata": {},
   "outputs": [],
   "source": [
    "occupation_currently_in_school = lfs_data.groupby(['PUFC08_CURSCH', 'PUFC14_PROCC']).size().unstack(fill_value=0)\n",
    "occupation_currently_in_school.plot(kind='bar', stacked=True, figsize=(20, 10))\n",
    "plt.title('Occupation Distribution by Currently In School')\n",
    "plt.xlabel('Currently in School')\n",
    "plt.ylabel('Count')\n",
    "plt.xticks([-1, 1, 2], ['Unknown', 'Yes', 'No'], rotation=0)\n",
    "plt.legend(title='Occupation', bbox_to_anchor=(1.05, 1), loc='upper left')\n",
    "plt.show()"
   ]
  },
  {
   "cell_type": "code",
   "execution_count": null,
   "metadata": {},
   "outputs": [],
   "source": [
    "occupation_did_work = lfs_data.groupby(['PUFC11_WORK', 'PUFC14_PROCC']).size().unstack(fill_value=0)\n",
    "occupation_did_work.plot(kind='bar', stacked=True, figsize=(20, 10))\n",
    "plt.title('Occupation Distribution by Whether Has Done Work')\n",
    "plt.xlabel('Did Work in the Past Week?')\n",
    "plt.ylabel('Count')\n",
    "plt.xticks([-1, 1, 2], ['Unknown', 'Yes', 'No'], rotation=0)\n",
    "plt.legend(title='Occupation', bbox_to_anchor=(1.05, 1), loc='upper left')\n",
    "plt.show()"
   ]
  },
  {
   "cell_type": "code",
   "execution_count": null,
   "metadata": {},
   "outputs": [],
   "source": [
    "occupation_looking_for_work_ver2 = lfs_data.groupby(['PUFC30_LOOKW_version2', 'PUFC11_WORK']).size().unstack(fill_value=0)\n",
    "occupation_looking_for_work_ver2.plot(kind='bar', stacked=True, figsize=(20, 10))\n",
    "plt.title('Dichotomous Work Status Distribution by Whether Looking for Work')\n",
    "plt.xlabel('Did the person look for work or try to establish a business in the past week?')\n",
    "plt.ylabel('Count')\n",
    "plt.xticks([False, True], ['No', 'Yes'], rotation=0)\n",
    "plt.legend(title='PUFC11_WORK Response', bbox_to_anchor=(1.05, 1), loc='upper left')\n",
    "plt.show()\n",
    "\n",
    "occupation_looking_for_work = lfs_data.groupby(['PUFC30_LOOKW', 'PUFC11_WORK']).size().unstack(fill_value=0)\n",
    "occupation_looking_for_work.plot(kind='bar', stacked=True, figsize=(20, 10))\n",
    "plt.title('Dichotomous Work Status Distribution by Whether Looking for Work')\n",
    "plt.xlabel('Did the person look for work or try to establish a business in the past week?')\n",
    "plt.ylabel('Count')\n",
    "plt.xticks([-1, 1, 2], ['Skipped', 'Yes', 'No'], rotation=0)\n",
    "plt.legend(title='PUFC11_WORK Response', bbox_to_anchor=(1.05, 1), loc='upper left')\n",
    "plt.show()"
   ]
  },
  {
   "cell_type": "code",
   "execution_count": null,
   "metadata": {},
   "outputs": [],
   "source": [
    "occupation_first_time_looking_for_work_ver2 = lfs_data.groupby(['PUFC31_FLWRK_version2', 'PUFC11_WORK']).size().unstack(fill_value=0)\n",
    "occupation_first_time_looking_for_work_ver2.plot(kind='bar', stacked=True, figsize=(20, 10))\n",
    "plt.title('Occupation Distribution by Whether First Time Looking for Work')\n",
    "plt.xlabel(\"Was it the person's first time looking for work or trying to establish a business?\")\n",
    "plt.ylabel('Count')\n",
    "plt.xticks([False, True], ['No', 'Yes'], rotation=0)\n",
    "plt.legend(title='PUFC11_WORK Response', bbox_to_anchor=(1.05, 1), loc='upper left')\n",
    "plt.show()\n",
    "\n",
    "# occupation_first_time_looking_for_work = lfs_data.groupby(['PUFC30_LOOKW', 'PUFC11_WORK']).size().unstack(fill_value=0)\n",
    "# occupation_first_time_looking_for_work.plot(kind='bar', stacked=True, figsize=(20, 10))\n",
    "# plt.title('Dichotomous Work Status Distribution by Whether First Time Looking for Work')\n",
    "# plt.xlabel(\"Was it the person's first time looking for work or trying to establish a business?\")\n",
    "# plt.ylabel('Count')\n",
    "# plt.xticks([-1, 1, 2], ['Skipped', 'Yes', 'No'], rotation=0)\n",
    "# plt.legend(title='PUFC11_WORK Response', bbox_to_anchor=(1.05, 1), loc='upper left')\n",
    "# plt.show()"
   ]
  },
  {
   "cell_type": "code",
   "execution_count": null,
   "metadata": {},
   "outputs": [],
   "source": [
    "# occupation_reason_not_looking_for_work = lfs_data.groupby(['PUFC34_WYNOT', 'PUFC11_WORK']).size().unstack(fill_value=0)\n",
    "# occupation_reason_not_looking_for_work.plot(kind='bar', stacked=True, figsize=(20, 10))\n",
    "# plt.title('Dichotomous Work Status Distribution by Whether First Time Looking for Work')\n",
    "# plt.xlabel(\"Reason for not looking for work\")\n",
    "# plt.ylabel('Count')\n",
    "# plt.legend(title='PUFC11_WORK Response', bbox_to_anchor=(1.05, 1), loc='upper left')\n",
    "# plt.show()\n",
    "\n",
    "occupation_reason_not_looking_for_work_version3 = lfs_data.groupby(['PUFC34_WYNOT_version3', 'PUFC11_WORK']).size().unstack(fill_value=0)\n",
    "version_3_histogram = occupation_reason_not_looking_for_work_version3.plot(kind='bar', stacked=True, figsize=(20, 10)).set_xticklabels([\n",
    "    'Tired/believed no work available', \n",
    "    'Awaiting results of previous job application', \n",
    "    'Temporary illness/disability', \n",
    "    'Bad weather', \n",
    "    'Waiting for rehire/job recall', \n",
    "    'Too young/old or retired/permanent disability', \n",
    "    'Household, family duties', \n",
    "    'Schooling', \n",
    "    'Others specify'\n",
    "], rotation=20, ha='right')\n",
    "plt.title('Dichotomous Work Status Distribution by Whether First Time Looking for Work (Merged)')\n",
    "plt.xlabel(\"Reason for not looking for work\")\n",
    "plt.ylabel('Count')\n",
    "plt.legend(title='PUFC11_WORK Response', bbox_to_anchor=(1.05, 1), loc='upper left')\n",
    "plt.show()"
   ]
  },
  {
   "cell_type": "code",
   "execution_count": null,
   "metadata": {},
   "outputs": [],
   "source": [
    "occupation_looking_for_work_ver2 = lfs_data.groupby(['PUFC38_PREVJOB_version2', 'PUFC11_WORK']).size().unstack(fill_value=0)\n",
    "occupation_looking_for_work_ver2.plot(kind='bar', stacked=True, figsize=(20, 10))\n",
    "plt.title('Dichotomous Work Status Distribution by Whether Person has worked before')\n",
    "plt.xlabel('Has the person worked at any time before?')\n",
    "plt.ylabel('Count')\n",
    "plt.xticks([False, True], ['No', 'Yes'], rotation=0)\n",
    "plt.legend(title='PUFC11_WORK Response', bbox_to_anchor=(1.05, 1), loc='upper left')\n",
    "plt.show()\n",
    "\n",
    "# occupation_looking_for_work = lfs_data.groupby(['PUFC38_PREVJOB', 'PUFC11_WORK']).size().unstack(fill_value=0)\n",
    "# occupation_looking_for_work.plot(kind='bar', stacked=True, figsize=(20, 10))\n",
    "# plt.title('Dichotomous Work Status Distribution by Whether Person has worked before')\n",
    "# plt.xlabel('Has the person worked at any time before?')\n",
    "# plt.ylabel('Count')\n",
    "# plt.xticks([-1, 1, 2], ['Skipped', 'Yes', 'No'], rotation=0)\n",
    "# plt.legend(title='PUFC11_WORK Response', bbox_to_anchor=(1.05, 1), loc='upper left')\n",
    "# plt.show()"
   ]
  },
  {
   "cell_type": "markdown",
   "metadata": {},
   "source": [
    "---"
   ]
  },
  {
   "cell_type": "markdown",
   "metadata": {},
   "source": [
    "We will use feature_cols as our predictor variables for PUFC11_WORK. Using Regression, we will evaluate how well we can predict whether or not someone has worked in the past week. We begin with preprocessing.\n",
    "\n",
    "### Logistic Regression (LR)\n",
    "Because this is a classification task, we can choose Logistic Regression as a baseline and a first model. In theory, PUFC11_WORK is a binary classification task, something that Logistic Regression should excel at. Since this uses a sigmoid function to map linear probabilities, between 0 and 1, making this suitable for determining whether someone \"worked\" (1) or \"did not work\" (0) within the past week. Finally, LR is particularly interpetable considering the task we're doing, allowing us to check the significance and coefficients associated with each predictor variable if need be.\n",
    "\n",
    "#### Preprocessing: LR\n",
    "We create a copy of our target variable PUFC11_WORK, and create five 80-20 train-test splits for the non-empty PUFC11 data we have. We'll also perform one-hot encoding, given our feature columns are all categorical. We also map the values of PUFC11, normally [1,2], to [0,1]. In addition, because we've determined that our feature_cols are intentionally unanswered as appropriate, we will be treating these values as empty rather than imputing."
   ]
  },
  {
   "cell_type": "code",
   "execution_count": null,
   "metadata": {},
   "outputs": [],
   "source": [
    "from src.preprocessing import prepare_data\n",
    "\n",
    "target_col = 'PUFC11_WORK'\n",
    "feature_cols = [\n",
    "    'PUFC05_AGE', 'PUFC06_MSTAT', 'PUFC04_SEX', \n",
    "    'PUFC07_GRADE', 'PUFC08_CURSCH', \n",
    "    'PUFC38_PREVJOB', 'PUFC31_FLWRK',\n",
    "    'PUFC30_LOOKW', 'PUFC34_WYNOT'\n",
    "]\n",
    "\n",
    "test_size = 0.2\n",
    "missing_value =-1\n",
    "seed = 45\n",
    "\n",
    "data_dict = prepare_data(lfs_data, target_col = target_col,\n",
    "                         test_size = test_size,\n",
    "                         missing_value = missing_value,\n",
    "                         feature_cols = feature_cols,\n",
    "                         seed = seed)"
   ]
  },
  {
   "cell_type": "markdown",
   "metadata": {},
   "source": [
    "#### Training: LR\n",
    "We are ready to start training. As we are setting a baseline, we'll start off with these hyperparameters. We'll use Stochastic Gradient Descent as our specified optimizer, though technically implementing mini-batch with a batch size of 128. We are looking for improvements in loss greater than 0.0001, else we stop early within three epochs. Lastly, we use a weight_decay of 0, indicating no regularization for now. All hyperparameters indicated below also indicate their default value if unspecified. For each convergence, we will track the metrics of that fold and aggregate it across all folds."
   ]
  },
  {
   "cell_type": "code",
   "execution_count": null,
   "metadata": {},
   "outputs": [],
   "source": [
    "from src.trainEval import *\n",
    "result_dict = train_model(\n",
    "    data_dict,\n",
    "    model = \"lr\",\n",
    "    \n",
    "   \n",
    "    optimizer = \"sgd\",\n",
    "    batch_size=128,\n",
    "\n",
    "    scheduler_step_size=5,\n",
    "    learning_rate=0.01,  \n",
    "    scheduler_gamma=0.5,\n",
    "    convergence_threshold=1e-4, \n",
    "    num_epochs=50,  \n",
    "    patience=3,\n",
    "    weight_decay = 0,\n",
    "    seed = seed\n",
    "    \n",
    ")\n",
    "\n",
    "print(\"\\nModel training complete!\")"
   ]
  },
  {
   "cell_type": "markdown",
   "metadata": {},
   "source": [
    "#### Error: LR\n",
    "This model performed well for an initial run. All folds ran for 25 epochs. Both accuracies for test and train data are high, though there is usually minimal improvement from the third epoch onwards. The train and test loss both see steady improvement, but we see the test loss  to be slightly higher and plateau earlier at around the sixteenth epoch. \n",
    "\n",
    "We see that the train loss is slightly lower than the test loss in folds 1, 2, and 5, while the reverse is true for folds 3 and 4. This would indicate a model that overfits for the former folds, and underfits for the latter. Averaging these out, its clear that with an aggregated train and test loss of 0.684 and 0.687 respectively, the overall performance of the model doesn't significantly overfit nor underfit. This outcome is surprising, considering that we've used nine predictor variables while also forgoing the use of regularization, as these would have been expected to introduce noise and contribute to overfitting through curse of dimensionality."
   ]
  },
  {
   "cell_type": "code",
   "execution_count": null,
   "metadata": {},
   "outputs": [],
   "source": [
    "hyperparameter_results = hyperparameter_random_search(data_dict)\n",
    "best_params = hyperparameter_results['best_params']\n",
    "results_summary = hyperparameter_results['summary_df']\n",
    "\n",
    "final_model = train_model(\n",
    "    data_dict, \n",
    "    **best_params\n",
    ")"
   ]
  },
  {
   "cell_type": "markdown",
   "metadata": {},
   "source": [
    "### Hyper Parameter Tuning: LR\n",
    "\n",
    "With our base parameters having been set, we can begin hyperparameter tuning. We'll implement *Random Search* as to not have to exhaustively branch through each possible combination of parameters. Below are the hyperparameter's we'll use and choose from. For example, if our algorithm randomly, for instance, chooses the second element of each, then it will test Logistic Regression at a learning rate of 0.1, batch size of 64, and the with the ADAM optimizer, etc. \n",
    "\n",
    "Values evenly spaced between 0.000001 and 0.001 will be explored for the learning rates. This will go on for fifty iterations, afterwhich a best model will be selected based on test accuracy. We'll perform random search rather than grid search, as a compromise to searching through all 259,200 combinations of hyperparameters in our grid."
   ]
  },
  {
   "cell_type": "code",
   "execution_count": null,
   "metadata": {},
   "outputs": [],
   "source": [
    "param_distributions = {\n",
    "    'learning_rate': np.logspace(-4, -1, 20),\n",
    "    'batch_size': [32, 64, 128, 256],\n",
    "    'optimizer': ['sgd', 'adam', 'rmsprop'],\n",
    "    'weight_decay': np.logspace(-5, -2, 10),\n",
    "    'num_epochs': [30, 50, 75, 100],\n",
    "    'scheduler_step_size': [5, 10, 15],\n",
    "    'scheduler_gamma': [0.5, 0.7, 0.9],\n",
    "    'patience': [3, 5, 7]\n",
    "}\n",
    "\n",
    "hyperparameter_results = hyperparameter_random_search(folds_data=folds_data, param_distributions=param_distributions, n_iter_search=50) "
   ]
  },
  {
   "cell_type": "markdown",
   "metadata": {},
   "source": [
    "# HPT Interpretation"
   ]
  },
  {
   "cell_type": "code",
   "execution_count": null,
   "metadata": {},
   "outputs": [],
   "source": [
    "best_params = hyperparameter_results['best_params']\n",
    "results_summary = hyperparameter_results['summary_df']\n",
    "\n",
    "final_model = train_model(\n",
    "    folds_data, \n",
    "    **best_params\n",
    ")"
   ]
  },
  {
   "cell_type": "markdown",
   "metadata": {},
   "source": [
    "## Decision Tree (DT)\n",
    "\n",
    "Another machine learning model we can use is the decision tree. Decision trees don't necessarily assume a linear relationship between our predictor variables and PUFC11, which could be benificial for finding complex relationships. Rather, they recursively partition our data with rules. Further, while it can get quite complex as it scales, individual nodes are also uncomplicated in how they are interpreted, which is also helpful for understanding the factors that determine whether an individual has worked within the past week.\n",
    "\n",
    "#### Training: DT\n",
    "We can recycle the one-hot encoded data we used in preparation for Logistic Regression and immediately use it for training our decision tree."
   ]
  },
  {
   "cell_type": "code",
   "execution_count": null,
   "metadata": {},
   "outputs": [],
   "source": [
    "from sklearn.metrics import accuracy_score, classification_report, log_loss, confusion_matrix\n",
    "from sklearn.tree import DecisionTreeClassifier\n",
    "import numpy as np\n",
    "\n",
    "accuracies_train = []\n",
    "losses_train = []\n",
    "accuracies_test = []\n",
    "losses_test = []\n",
    "confusion_matrices = [] \n",
    "\n",
    "for i in range(5):\n",
    "    X_train, X_test, y_train, y_test = (\n",
    "        folds_data[i]['X_train'],\n",
    "        folds_data[i]['X_test'],\n",
    "        folds_data[i]['y_train'],\n",
    "        folds_data[i]['y_test'],\n",
    "    )\n",
    "\n",
    "    model = DecisionTreeClassifier(random_state=45, min_impurity_decrease=0.001)\n",
    "\n",
    "    model.fit(X_train, y_train)\n",
    "\n",
    "    # Train predictions and loss\n",
    "    y_train_pred = model.predict(X_train)\n",
    "    y_train_pred_proba = model.predict_proba(X_train)\n",
    "    accuracy_train = accuracy_score(y_train, y_train_pred)\n",
    "    loss_train = log_loss(y_train, y_train_pred_proba)\n",
    "\n",
    "    # Test predictions and loss\n",
    "    y_test_pred = model.predict(X_test)\n",
    "    y_test_pred_proba = model.predict_proba(X_test)\n",
    "    accuracy_test = accuracy_score(y_test, y_test_pred)\n",
    "    loss_test = log_loss(y_test, y_test_pred_proba)\n",
    "\n",
    "    # Confusion Matrix\n",
    "    cm = confusion_matrix(y_test, y_test_pred)\n",
    "    confusion_matrices.append(cm)\n",
    "\n",
    "    accuracies_train.append(accuracy_train)\n",
    "    losses_train.append(loss_train)\n",
    "    accuracies_test.append(accuracy_test)\n",
    "    losses_test.append(loss_test)\n",
    "\n",
    "    print(f\"Fold {i+1} - Train Accuracy: {accuracy_train:.4f}, Train Loss: {loss_train:.4f}, Test Accuracy: {accuracy_test:.4f}, Test Loss: {loss_test:.4f}\")\n",
    "    print(f\"Fold {i+1} - Confusion Matrix:\\n{cm}\\n\")\n",
    "\n",
    "avg_accuracy_train = np.mean(accuracies_train)\n",
    "avg_loss_train = np.mean(losses_train)\n",
    "avg_accuracy_test = np.mean(accuracies_test)\n",
    "avg_loss_test = np.mean(losses_test)\n",
    "\n",
    "print(f\"\\nAggregated Metrics:\")\n",
    "print(f\"Average Train Accuracy: {avg_accuracy_train:.4f}\")\n",
    "print(f\"Average Train Loss: {avg_loss_train:.4f}\")\n",
    "print(f\"Average Test Accuracy: {avg_accuracy_test:.4f}\")\n",
    "print(f\"Average Test Loss: {avg_loss_test:.4f}\")\n",
    "\n",
    "print(\"\\nOverall Confusion Matrix:\")\n",
    "print(sum(confusion_matrices))\n",
    "\n",
    "print(\"\\nClassification Report:\")\n",
    "print(classification_report(y_test, y_test_pred))"
   ]
  },
  {
   "cell_type": "markdown",
   "metadata": {},
   "source": [
    "#### Error: DT\n",
    "Our model is also performing well, and with each confusion metric no less than 0.98. As this is a decision tree, a model usually prone to overfitting, we do see minimal overfitting, seeing as our train loss is higher than our test loss by 0.0023, though this is arguably a negligible gap.\n",
    "\n"
   ]
  },
  {
   "cell_type": "markdown",
   "metadata": {},
   "source": [
    "#### Hyperparameter Tuning: DT\n",
    "Similar to our methodology with Logistic Regression, we will implement random search for our tuning as a compromise to exhaustively searching through each hyperparameter combination. This time, we will explicitly define certain thresholds and measures. \n",
    "\n",
    "Our previous two hyperparameters, max_depth and minimum_impurity_decrease, will now range fom 30-60 and 0.001 to 0.1 respectively, adding variability to our parameters despite minimal signs of overfitting. We will allow the min_samples_leaf to enforce generalization or allow leaf nodes with one sample. \n",
    "\n",
    "Of note, we will add cost-complexity pruning as a form of regularizaton for our decision trees. We will also be exploring both gini and entropy as criteria, as the former minimizes chances of misclassification while the latter measures information gain."
   ]
  },
  {
   "cell_type": "markdown",
   "metadata": {},
   "source": [
    "#### Error: DT\n",
    "Our model is also performing well, and with each confusion metric no less than 0.98. As this is a decision tree, a model usually prone to overfitting, we do see minimal overfitting, seeing as our train loss is higher than our test loss by 0.0023, though this is arguably a negligible gap.\n",
    "\n"
   ]
  },
  {
   "cell_type": "code",
   "execution_count": null,
   "metadata": {},
   "outputs": [],
   "source": [
    "from sklearn.model_selection import RandomizedSearchCV\n",
    "from sklearn.tree import DecisionTreeClassifier\n",
    "import numpy as np\n",
    "from sklearn.metrics import accuracy_score, classification_report, log_loss\n",
    "\n",
    "p_grid = {\n",
    "    \"criterion\": [\"gini\", \"entropy\"],\n",
    "    \"max_depth\": [30, 45, 50, 60],\n",
    "    \"min_samples_split\": [2, 5, 10],\n",
    "    \"min_samples_leaf\": [1, 2, 4],\n",
    "    \"min_impurity_decrease\": [0.001, 0.005, 0.01],\n",
    "    \"ccp_alpha\": np.logspace(-4, 0, 10)\n",
    "}\n",
    "\n",
    "best_params_list = []\n",
    "accuracies = []\n",
    "precisions = []\n",
    "recalls = []\n",
    "f1_scores = []\n",
    "losses = []\n",
    "\n",
    "for i in range(5):\n",
    "    X_train, X_test, y_train, y_test = (\n",
    "        folds_data[i]['X_train'],\n",
    "        folds_data[i]['X_test'],\n",
    "        folds_data[i]['y_train'],\n",
    "        folds_data[i]['y_test'],\n",
    "    )\n",
    "\n",
    "    model = DecisionTreeClassifier(random_state=45)\n",
    "\n",
    "    random_search = RandomizedSearchCV(\n",
    "        model, p_grid, n_iter=20, cv=5, scoring=\"accuracy\", n_jobs=-1, verbose=1, random_state=45\n",
    "    )\n",
    "    random_search.fit(X_train, y_train)\n",
    "\n",
    "    best_params_list.append(random_search.best_params_)\n",
    "\n",
    "    accuracies.append(accuracy_score(y_test, random_search.best_estimator_.predict(X_test)))\n",
    "    report = classification_report(y_test, random_search.best_estimator_.predict(X_test), output_dict=True, zero_division=0)\n",
    "    losses.append(log_loss(y_test, random_search.best_estimator_.predict_proba(X_test)))\n",
    "    precisions.append(report['macro avg']['precision'])\n",
    "    recalls.append(report['macro avg']['recall'])\n",
    "    f1_scores.append(report['macro avg']['f1-score'])\n",
    "\n",
    "    print(f\"Fold {i+1} - Best Parameters: {random_search.best_params_}\")\n",
    "    print(f\"Fold {i+1} - Accuracy: {accuracies[-1]:.4f}, Precision: {precisions[-1]:.4f}, Recall: {recalls[-1]:.4f}, F1-score: {f1_scores[-1]:.4f}, Loss: {losses[-1]:.4f}\")\n",
    "\n",
    "\n",
    "avg_accuracy = np.mean(accuracies)\n",
    "avg_precision = np.mean(precisions)\n",
    "avg_recall = np.mean(recalls)\n",
    "avg_f1 = np.mean(f1_scores)\n",
    "avg_loss = np.mean(losses)\n",
    "\n",
    "print(f\"\\nAggregated Metrics:\")\n",
    "print(f\"Average Accuracy: {avg_accuracy:.4f}\")\n",
    "print(f\"Average Precision: {avg_precision:.4f}\")\n",
    "print(f\"Average Recall: {avg_recall:.4f}\")\n",
    "print(f\"Average F1-score: {avg_f1:.4f}\")\n",
    "print(f\"Average Loss: {avg_loss:.4f}\")\n",
    "print(\"\\nBest Parameters for each fold:\")\n",
    "for i, params in enumerate(best_params_list):\n",
    "    print(f\"Fold {i+1}: {params}\")\n",
    "\n",
    "\n",
    "best_fold_index = np.argmax(accuracies)\n",
    "best_fold_params = best_params_list[best_fold_index]\n",
    "print(\"\\nBest Performing Fold Parameters:\", best_fold_params)\n",
    "\n",
    "\n",
    "best_model = DecisionTreeClassifier(random_state=45, **best_fold_params)\n",
    "\n",
    "\n",
    "all_X_train = np.concatenate([folds_data[i]['X_train'] for i in range(5)])\n",
    "all_y_train = np.concatenate([folds_data[i]['y_train'] for i in range(5)])\n",
    "\n",
    "best_model.fit(all_X_train, all_y_train)\n"
   ]
  },
  {
   "cell_type": "code",
   "execution_count": null,
   "metadata": {},
   "outputs": [],
   "source": [
    "from sklearn.metrics import confusion_matrix, log_loss, accuracy_score, precision_score, recall_score, f1_score\n",
    "import matplotlib.pyplot as plt\n",
    "import seaborn as sns\n",
    "\n",
    "train_preds = best_model.predict(X_train)\n",
    "train_acc = accuracy_score(y_train, train_preds)\n",
    "\n",
    "test_preds = best_model.predict(X_test)\n",
    "test_acc = accuracy_score(y_test, test_preds)\n",
    "\n",
    "train_probs = best_model.predict_proba(X_train)\n",
    "test_probs = best_model.predict_proba(X_test)\n",
    "train_loss = log_loss(y_train, train_probs)\n",
    "test_loss = log_loss(y_test, test_probs)\n",
    "\n",
    "cm = confusion_matrix(y_test, test_preds)  \n",
    "plt.figure(figsize=(6, 5))\n",
    "sns.heatmap(cm, annot=True, fmt=\"d\", cmap=\"Blues\", cbar=False, \n",
    "            xticklabels=[\"Predicted Negative\", \"Predicted Positive\"], \n",
    "            yticklabels=[\"Actual Negative\", \"Actual Positive\"])\n",
    "\n",
    "\n",
    "plt.xlabel(\"Predicted\")\n",
    "plt.ylabel(\"Actual\")\n",
    "plt.title(\"Confusion Matrix\")\n",
    "\n",
    "\n",
    "plt.show()\n",
    "\n",
    "print(cm)\n",
    "\n",
    "print(f\"Training Accuracy: {train_acc:.4f}\")\n",
    "print(f\"Test Accuracy: {test_acc:.4f}\")\n",
    "\n",
    "print(f\"Training Log Loss: {train_loss:.4f}\")\n",
    "print(f\"Test Log Loss: {test_loss:.4f}\")\n",
    "\n",
    "\n",
    "train_precision = precision_score(y_train, train_preds, zero_division=0)\n",
    "test_precision = precision_score(y_test, test_preds, zero_division=0)\n",
    "\n",
    "train_recall = recall_score(y_train, train_preds, zero_division=0)\n",
    "test_recall = recall_score(y_test, test_preds, zero_division=0)\n",
    "\n",
    "train_f1 = f1_score(y_train, train_preds, zero_division=0)\n",
    "test_f1 = f1_score(y_test, test_preds, zero_division=0)\n",
    "\n",
    "print(f\"Training Precision: {train_precision:.4f}\")\n",
    "print(f\"Test Precision: {test_precision:.4f}\")\n",
    "\n",
    "print(f\"Training Recall: {train_recall:.4f}\")\n",
    "print(f\"Test Recall: {test_recall:.4f}\")\n",
    "\n",
    "print(f\"Training F1-score: {train_f1:.4f}\")\n",
    "print(f\"Test F1-score: {test_f1:.4f}\")"
   ]
  },
  {
   "cell_type": "markdown",
   "metadata": {},
   "source": [
    "Initial Predictions"
   ]
  },
  {
   "cell_type": "code",
   "execution_count": null,
   "metadata": {},
   "outputs": [],
   "source": [
    "y_pred = model.predict(X_test)\n",
    "\n",
    "accuracy = accuracy_score(y_test, y_pred)\n",
    "print(f\"acc: {accuracy:.4f}\")\n",
    "\n",
    "\n",
    "print(classification_report(y_test, y_pred))"
   ]
  },
  {
   "cell_type": "markdown",
   "metadata": {},
   "source": [
    "Hyperparameter Tuning"
   ]
  },
  {
   "cell_type": "code",
   "execution_count": null,
   "metadata": {},
   "outputs": [],
   "source": [
    "p_grid = {\n",
    "    \"criterion\": [\"gini\", \"entropy\"],  \n",
    "    \"max_depth\": [30, 45, 50, 60],  \n",
    "    \"min_samples_split\": [2, 5, 10], \n",
    "    \"min_samples_leaf\": [1, 2, 4], \n",
    "    \"min_impurity_decrease\": [0.001, 0.005, 0.01], ## ensures pruning\n",
    "    \"ccp_alpha\": np.logspace(-4, 0, 10)\n",
    "}\n",
    "\n",
    "random_search = RandomizedSearchCV(model, p_grid, n_iter=20, cv=5, scoring=\"accuracy\", n_jobs=-1, verbose=1, random_state=45)\n",
    "random_search.fit(X_train, y_train)\n",
    "\n",
    "## best params \n",
    "print(\"Best Parameters:\", random_search.best_params_)\n"
   ]
  },
  {
   "cell_type": "code",
   "execution_count": null,
   "metadata": {},
   "outputs": [],
   "source": [
    "best_model = DecisionTreeClassifier(**random_search.best_params_, random_state=seed)\n",
    "\n",
    "best_model.fit(X_train, y_train)\n",
    "\n",
    "\n",
    "y_pred = best_model.predict(X_test)"
   ]
  },
  {
   "cell_type": "markdown",
   "metadata": {},
   "source": [
    "Confirm"
   ]
  },
  {
   "cell_type": "code",
   "execution_count": null,
   "metadata": {},
   "outputs": [],
   "source": [
    "train_preds = best_model.predict(X_train)\n",
    "train_acc = accuracy_score(y_train, train_preds)\n",
    "\n",
    "test_preds = best_model.predict(X_test)\n",
    "test_acc = accuracy_score(y_test, test_preds)\n",
    "\n",
    "train_probs = best_model.predict_proba(X_train)\n",
    "test_probs = best_model.predict_proba(X_test)\n",
    "train_loss = log_loss(y_train, train_probs)\n",
    "test_loss = log_loss(y_test, test_probs)\n",
    "\n",
    "cm = confusion_matrix(y_test, y_pred)\n",
    "plt.figure(figsize=(6, 5))\n",
    "sns.heatmap(cm, annot=True, fmt=\"d\", cmap=\"Blues\", cbar=False, \n",
    "            xticklabels=[\"Predicted Negative\", \"Predicted Positive\"], \n",
    "            yticklabels=[\"Actual Negative\", \"Actual Positive\"])\n",
    "\n",
    "plt.xlabel(\"Predicted\")\n",
    "plt.ylabel(\"Actual\")\n",
    "plt.title(\"Confusion Matrix\")\n",
    "\n",
    "plt.show()\n",
    "\n",
    "print(cm)\n",
    "\n",
    "print(f\"Training Accuracy: {train_acc:.4f}\")\n",
    "print(f\"Test Accuracy: {test_acc:.4f}\")\n",
    "\n",
    "\n",
    "print(f\"Training Log Loss: {train_loss:.4f}\")\n",
    "print(f\"Test Log Loss: {test_loss:.4f}\")\n",
    "\n"
   ]
  },
  {
   "cell_type": "markdown",
   "metadata": {},
   "source": [
    "test different depths & more vals"
   ]
  },
  {
   "cell_type": "code",
   "execution_count": null,
   "metadata": {},
   "outputs": [],
   "source": [
    "p_grid = {\n",
    "    \"criterion\": [\"gini\", \"entropy\", \"log_loss\"],  \n",
    "    \"max_depth\": [20, 30, 45, 60],  \n",
    "    \"min_samples_split\": [2, 5, 10, 20], \n",
    "    \"min_samples_leaf\": [1, 2, 4, 6], \n",
    "}\n",
    "\n",
    "grid_search = GridSearchCV(estimator=model, param_grid=p_grid, \n",
    "                           cv=5, scoring='accuracy', n_jobs=-1, verbose=1)\n",
    "\n",
    "grid_search.fit(X_train, y_train)\n",
    "\n",
    "print(\"best params: \", grid_search.best_params_)\n",
    "\n",
    "best_model = grid_search.best_estimator_\n",
    "\n",
    "y_pred = best_model.predict(X_test)\n",
    "\n",
    "train_preds = best_model.predict(X_train)\n",
    "train_acc = accuracy_score(y_train, train_preds)\n",
    "\n",
    "test_preds = best_model.predict(X_test)\n",
    "test_acc = accuracy_score(y_test, test_preds)\n",
    "\n",
    "print(f\"Training Accuracy: {train_acc:.4f}\")\n",
    "print(f\"Test Accuracy: {test_acc:.4f}\")"
   ]
  },
  {
   "cell_type": "markdown",
   "metadata": {},
   "source": [
    "Check Class Imbalance"
   ]
  },
  {
   "cell_type": "code",
   "execution_count": null,
   "metadata": {},
   "outputs": [],
   "source": [
    "print(\"distrib w/ numpy:\", np.bincount(y_train))\n",
    "\n",
    "## not too large difference between 1 and 2, thereby with the model already handling it well, no need to change certain characteristics\n",
    "## no need for pruning due to extremely low acc diff on training and test set"
   ]
  },
  {
   "cell_type": "code",
   "execution_count": null,
   "metadata": {},
   "outputs": [],
   "source": [
    "from sklearn.tree import plot_tree\n",
    "import matplotlib.pyplot as plt\n",
    "\n",
    "plt.figure(figsize=(20, 10))\n",
    "plot_tree(best_model, filled=True, feature_names=X_train.columns, class_names=[\"Class 0\", \"Class 1\"])\n",
    "plt.title(\"Decision Tree Visualization\")\n",
    "plt.show()"
   ]
  },
  {
   "cell_type": "markdown",
   "metadata": {},
   "source": [
    "### kNN"
   ]
  },
  {
   "cell_type": "code",
   "execution_count": null,
   "metadata": {},
   "outputs": [],
   "source": [
    "\n",
    "\n",
    "#initial k value, optimal value will be determined later\n",
    "k = 5\n",
    "\n",
    "for i, fold in enumerate(folds_data):\n",
    "    print(f\"fold {i+1}\")\n",
    "\n",
    "    X_train = fold['X_train']\n",
    "    y_train = fold['y_train']\n",
    "    X_test = fold['X_test']\n",
    "    y_test = fold['y_test']\n",
    "\n",
    "    knn_model = KNeighborsClassifier(n_neighbors=k, weights='distance')\n",
    "    knn_model.fit(X_train, y_train)\n",
    "\n",
    "    y_pred = knn_model.predict(X_test)\n",
    "\n",
    "    ## perf metrics\n",
    "    print(\"acc\", accuracy_score(y_test, y_pred))\n",
    "    print(\"class rep:\\n\", classification_report(y_test, y_pred, zero_division=0))\n",
    "    print(\"matrix: \\n\", confusion_matrix(y_test, y_pred))\n",
    "    print(\"-\" * 50)\n",
    "\n",
    "    ## note to self: proceed to hpt, kNN no weights\n"
   ]
  },
  {
   "cell_type": "markdown",
   "metadata": {},
   "source": [
    "Find Optimal K value (hpt)"
   ]
  },
  {
   "cell_type": "code",
   "execution_count": null,
   "metadata": {},
   "outputs": [],
   "source": [
    "k_values = range(1, 21)\n",
    "\n",
    "crossvalscores = []\n",
    "\n",
    "for k in k_values:\n",
    "    knn = KNeighborsClassifier(n_neighbors=k, weights='distance')\n",
    "    scores = cross_val_score(knn, X_train, y_train, cv=5, scoring='accuracy') \n",
    "    crossvalscores.append(scores.mean())\n",
    "\n",
    "best_k = k_values[np.argmax(crossvalscores)]\n",
    "\n",
    "print(\"best k:\", best_k)\n"
   ]
  },
  {
   "cell_type": "code",
   "execution_count": null,
   "metadata": {},
   "outputs": [],
   "source": [
    "#alternate gridsearch exhaustive\n",
    "\n",
    "param_grid = {'n_neighbors': range(1, 31)} \n",
    "\n",
    "grid_search = GridSearchCV(KNeighborsClassifier(weights='distance'), param_grid, cv=5, scoring='accuracy', n_jobs=-1)\n",
    "\n",
    "grid_search.fit(X_train, y_train)\n",
    "\n",
    "print(\"best k:\", grid_search.best_params_['n_neighbors'])\n"
   ]
  },
  {
   "cell_type": "code",
   "execution_count": null,
   "metadata": {},
   "outputs": [],
   "source": [
    "knn_cm = confusion_matrix(y_test, y_pred)\n",
    "print(knn_cm)\n",
    "knn_acc = accuracy_score(y_test, y_pred)\n",
    "print(\"acc: \", knn_acc)"
   ]
  }
 ],
 "metadata": {
  "kernelspec": {
   "display_name": "Python 3",
   "language": "python",
   "name": "python3"
  },
  "language_info": {
   "codemirror_mode": {
    "name": "ipython",
    "version": 3
   },
   "file_extension": ".py",
   "mimetype": "text/x-python",
   "name": "python",
   "nbconvert_exporter": "python",
   "pygments_lexer": "ipython3",
   "version": "3.12.6"
  }
 },
 "nbformat": 4,
 "nbformat_minor": 4
}
